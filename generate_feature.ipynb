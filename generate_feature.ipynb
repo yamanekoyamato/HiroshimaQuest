{
 "cells": [
  {
   "cell_type": "code",
   "execution_count": 2,
   "metadata": {},
   "outputs": [],
   "source": [
    "import pandas as pd\n",
    "import numpy as np\n",
    "import matplotlib.pyplot as plt\n",
    "from pandas.plotting import parallel_coordinates\n",
    "get_ipython().run_line_magic('matplotlib', 'inline')\n",
    "from sklearn import linear_model\n",
    "from sklearn.linear_model import LinearRegression\n",
    "from sklearn.model_selection import train_test_split\n",
    "import gc\n",
    "import sys\n",
    "import csv\n"
   ]
  },
  {
   "cell_type": "code",
   "execution_count": 4,
   "metadata": {},
   "outputs": [],
   "source": [
    "test_pitch_df = pd.read_csv(\"../Data/test_pitch.csv\")\n",
    "\n"
   ]
  },
  {
   "cell_type": "code",
   "execution_count": 5,
   "metadata": {},
   "outputs": [
    {
     "ename": "NameError",
     "evalue": "name 'train_pitch_df' is not defined",
     "output_type": "error",
     "traceback": [
      "\u001b[0;31m---------------------------------------------------------------------------\u001b[0m",
      "\u001b[0;31mNameError\u001b[0m                                 Traceback (most recent call last)",
      "\u001b[0;32m<ipython-input-5-2f3a349a2ebe>\u001b[0m in \u001b[0;36m<module>\u001b[0;34m\u001b[0m\n\u001b[1;32m      2\u001b[0m \u001b[0mnew_row_2\u001b[0m \u001b[0;34m=\u001b[0m \u001b[0;34m[\u001b[0m\u001b[0;34m]\u001b[0m\u001b[0;34m\u001b[0m\u001b[0;34m\u001b[0m\u001b[0m\n\u001b[1;32m      3\u001b[0m \u001b[0mnew_row_3\u001b[0m \u001b[0;34m=\u001b[0m \u001b[0;34m[\u001b[0m\u001b[0;34m]\u001b[0m\u001b[0;34m\u001b[0m\u001b[0;34m\u001b[0m\u001b[0m\n\u001b[0;32m----> 4\u001b[0;31m \u001b[0mdf\u001b[0m \u001b[0;34m=\u001b[0m \u001b[0mtrain_pitch_df\u001b[0m\u001b[0;34m[\u001b[0m\u001b[0;34m[\u001b[0m\u001b[0;34m'表裏'\u001b[0m\u001b[0;34m,\u001b[0m\u001b[0;34m'プレイ前ホームチーム得点数'\u001b[0m\u001b[0;34m,\u001b[0m \u001b[0;34m'プレイ前アウェイチーム得点数'\u001b[0m\u001b[0;34m]\u001b[0m\u001b[0;34m]\u001b[0m\u001b[0;34m\u001b[0m\u001b[0;34m\u001b[0m\u001b[0m\n\u001b[0m\u001b[1;32m      5\u001b[0m \u001b[0;32mfor\u001b[0m \u001b[0mi\u001b[0m \u001b[0;32min\u001b[0m \u001b[0mdf\u001b[0m\u001b[0;34m.\u001b[0m\u001b[0mvalues\u001b[0m\u001b[0;34m.\u001b[0m\u001b[0mtolist\u001b[0m\u001b[0;34m(\u001b[0m\u001b[0;34m)\u001b[0m\u001b[0;34m:\u001b[0m\u001b[0;34m\u001b[0m\u001b[0;34m\u001b[0m\u001b[0m\n\u001b[1;32m      6\u001b[0m     \u001b[0;32mif\u001b[0m \u001b[0mi\u001b[0m\u001b[0;34m[\u001b[0m\u001b[0;36m0\u001b[0m\u001b[0;34m]\u001b[0m \u001b[0;34m==\u001b[0m \u001b[0;34m'表'\u001b[0m\u001b[0;34m:\u001b[0m\u001b[0;34m\u001b[0m\u001b[0;34m\u001b[0m\u001b[0m\n",
      "\u001b[0;31mNameError\u001b[0m: name 'train_pitch_df' is not defined"
     ]
    }
   ],
   "source": [
    "new_row_1 = []\n",
    "new_row_2 = []\n",
    "new_row_3 = []\n",
    "df = train_pitch_df[['表裏','プレイ前ホームチーム得点数', 'プレイ前アウェイチーム得点数']]\n",
    "for i in df.values.tolist():\n",
    "    if i[0] == '表':\n",
    "        new_row_1.append(i[1])\n",
    "        new_row_2.append(i[2])\n",
    "        new_row_3.append(abs(i[1]-i[2]))\n",
    "    else:\n",
    "        new_row_1.append(i[2])\n",
    "        new_row_2.append(i[1])\n",
    "        new_row_3.append(abs(i[1]-i[2]))\n",
    "train_pitch_df['自チーム得点数'] = new_row_1\n",
    "train_pitch_df['相手チーム得点数'] = new_row_2\n",
    "train_pitch_df['点差'] = new_row_3\n",
    "df = train_pitch_df[['プレイ前ボール数', 'プレイ前ストライク数']]\n",
    "np = df.values\n",
    "new_row = ['1球目']\n",
    "for i in range(1,len(df)):\n",
    "    j = i - 1\n",
    "    s_count = np[i][1] - np[j][1]\n",
    "    b_count = np[i][0] - np[j][0]\n",
    "    \n",
    "    if s_count == 1:\n",
    "        new_row.append('ストライク')\n",
    "    elif b_count == 1:\n",
    "        new_row.append('ボール')\n",
    "    elif s_count == 0 and b_count == 0:\n",
    "        new_row.append('ファウル')\n",
    "    else:\n",
    "        new_row.append('1球目')\n",
    "train_pitch_df['1球前ステータス'] = new_row\n",
    "train_pitch_df.to_csv(\"../Data/test_pitch_add_column1.csv\", index=False)"
   ]
  },
  {
   "cell_type": "code",
   "execution_count": 3,
   "metadata": {},
   "outputs": [],
   "source": [
    "test_pitch_df_list = pd.read_csv(\"../Data/test_pitch.csv\", chunksize=100000)\n",
    "\n",
    "test_pitcher_df = pd.read_csv(\"../Data/test_player.csv\")\n",
    "columns_pitcher = ['投手_年度', '投手_チームID', '投手_チーム名', '投手_選手ID', '投手_選手名', \n",
    "                   '投手_育成選手F', '投手_背番号', '投手_位置', '投手_投', '投手_打',\n",
    "                   '投手_身長', '投手_体重', '投手_生年月日', '投手_出身高校ID', '投手_出身高校名', \n",
    "                   '投手_出身大学ID', '投手_出身大学名', '投手_社会人','投手_ドラフト年', '投手_ドラフト種別', \n",
    "                   '投手_ドラフト順位', '投手_年俸', '投手_出身国', '投手_出身地', '投手_血液型']\n",
    "test_pitcher_df.columns = columns_pitcher\n",
    "\n",
    "test_batter_df = pd.read_csv(\"../Data/test_player.csv\")\n",
    "columns_batter = ['打者_年度', '打者_チームID', '打者_チーム名', '打者_選手ID', '打者_選手名', '打者_育成選手F', \n",
    "                  '打者_背番号', '打者_位置', '打者_投', '打者_打','打者_身長', '打者_体重', '打者_生年月日', \n",
    "                  '打者_出身高校ID', '打者_出身高校名', '打者_出身大学ID', '打者_出身大学名', '打者_社会人',\n",
    "                  '打者_ドラフト年', '打者_ドラフト種別', '打者_ドラフト順位', '打者_年俸', '打者_出身国', \n",
    "                  '打者_出身地', '打者_血液型']\n",
    "\n",
    "test_batter_df.columns = columns_batter\n",
    "\n"
   ]
  },
  {
   "cell_type": "code",
   "execution_count": null,
   "metadata": {},
   "outputs": [
    {
     "name": "stdout",
     "output_type": "stream",
     "text": [
      "test: 100000\n",
      "test2: 100000\n",
      "test3: 100000\n",
      "test4: 100000\n",
      "\n",
      "\n",
      "test: 100000\n",
      "test2: 100000\n",
      "test3: 100000\n",
      "test4: 100000\n",
      "\n",
      "\n",
      "test: 100000\n",
      "test2: 100000\n",
      "test3: 100000\n",
      "test4: 100000\n"
     ]
    }
   ],
   "source": [
    "firstloop = True\n",
    "\n",
    "for test_pitch_df in test_pitch_df_list:\n",
    "    new_row_1 = []\n",
    "    new_row_2 = []\n",
    "    new_row_3 = []\n",
    "    df_a = test_pitch_df[['表裏','プレイ前ホームチーム得点数', 'プレイ前アウェイチーム得点数']]\n",
    "    print('test:',len(test_pitch_df))\n",
    "    for i in df_a.values.tolist():\n",
    "        if i[0] == '表':\n",
    "            new_row_1.append(i[1])\n",
    "            new_row_2.append(i[2])\n",
    "            new_row_3.append(abs(i[1]-i[2]))\n",
    "        else:\n",
    "            new_row_1.append(i[2])\n",
    "            new_row_2.append(i[1])\n",
    "            new_row_3.append(abs(i[1]-i[2]))\n",
    "    test_pitch_df['自チーム得点数'] = new_row_1\n",
    "    test_pitch_df['相手チーム得点数'] = new_row_2\n",
    "    test_pitch_df['点差'] = new_row_3\n",
    "    df_b = test_pitch_df[['プレイ前ボール数', 'プレイ前ストライク数']]\n",
    "    np = df_b.values\n",
    "    new_row = ['1球目']\n",
    "    \n",
    "    for i in range(1,len(df_b)):\n",
    "        j = i - 1\n",
    "        s_count = np[i][1] - np[j][1]\n",
    "        b_count = np[i][0] - np[j][0]\n",
    "\n",
    "        if s_count == 1:\n",
    "            new_row.append('ストライク')\n",
    "        elif b_count == 1:\n",
    "            new_row.append('ボール')\n",
    "        elif s_count == 0 and b_count == 0:\n",
    "            new_row.append('ファウル')\n",
    "        else:\n",
    "            new_row.append('1球目')\n",
    "\n",
    "    test_pitch_df['1球前ステータス'] = new_row\n",
    "    print('test2:',len(test_pitch_df))\n",
    "\n",
    "    #年度間で投手IDの被りあり、年度とセットで一意に決まる\n",
    "    df_c = pd.merge(test_pitch_df,test_pitcher_df,left_on=[\"投手ID\",\"年度\"], right_on=[\"投手_選手ID\",\"投手_年度\"], how=\"left\")\n",
    "    print('test3:',len(df_c))\n",
    "    del test_pitch_df, df_a, df_b, new_row, new_row_1, new_row_2, new_row_3,\n",
    "\n",
    "\n",
    "\n",
    "    df_d = pd.merge(df_c,test_batter_df,left_on=[\"打者ID\",\"年度\"], right_on=[\"打者_選手ID\",\"打者_年度\"], how=\"left\")\n",
    "    print('test4:',len(df_d))\n",
    "    \n",
    "    if firstloop:\n",
    "        df_d.to_csv(\"../Data/test_pitch_add_column2.csv\", index=False, mode = 'w')\n",
    "        firstloop = False\n",
    "    else:\n",
    "        df_d.to_csv(\"../Data/test_pitch_add_column2.csv\", index=False, header=False, mode = 'a')\n",
    "        \n",
    "    print(\"\\n\")"
   ]
  },
  {
   "cell_type": "code",
   "execution_count": null,
   "metadata": {},
   "outputs": [],
   "source": [
    "len"
   ]
  },
  {
   "cell_type": "code",
   "execution_count": null,
   "metadata": {},
   "outputs": [],
   "source": []
  },
  {
   "cell_type": "code",
   "execution_count": 5,
   "metadata": {
    "scrolled": false
   },
   "outputs": [
    {
     "name": "stdout",
     "output_type": "stream",
     "text": [
      "|            Variable Name|    Memory|\n",
      " ------------------------------------ \n",
      "|                       In|       136|\n",
      "|         LinearRegression|      1064|\n",
      "|                      Out|       248|\n",
      "|                  b_count|        32|\n",
      "|           columns_batter|       272|\n",
      "|          columns_pitcher|       272|\n",
      "|                      csv|        88|\n",
      "|                       df|        96|\n",
      "|                     df_c|  50565405|\n",
      "|                     df_d|  74381575|\n",
      "|                     exit|        64|\n",
      "|                        f|       224|\n",
      "|                       gc|        88|\n",
      "|              get_ipython|        72|\n",
      "|                        i|        28|\n",
      "|                        j|        28|\n",
      "|                        l|        72|\n",
      "|             linear_model|        88|\n",
      "|                       np|       112|\n",
      "|     parallel_coordinates|       144|\n",
      "|                       pd|        88|\n",
      "|                      plt|        88|\n",
      "|                     quit|        64|\n",
      "|                  s_count|        32|\n",
      "|                      sys|        88|\n",
      "|           test_batter_df|   2036481|\n",
      "|       test_pitch_df_list|        64|\n",
      "|          test_pitcher_df|   2036481|\n",
      "|         train_test_split|       144|\n"
     ]
    }
   ],
   "source": [
    "#メモリの確認\n",
    "print(\"{}{: >25}{}{: >10}{}\".format('|','Variable Name','|','Memory','|'))\n",
    "print(\" ------------------------------------ \")\n",
    "for var_name in dir():\n",
    "    if not var_name.startswith(\"_\"):\n",
    "        print (\"{}{: >25}{}{: >10}{}\".format('|',var_name,'|',sys.getsizeof(eval(var_name)),'|'))\n",
    "        "
   ]
  },
  {
   "cell_type": "code",
   "execution_count": null,
   "metadata": {},
   "outputs": [],
   "source": [
    "train_pitch_df = pd.read_csv(\"../Data/train_pitch_add_column2.csv\")"
   ]
  },
  {
   "cell_type": "code",
   "execution_count": null,
   "metadata": {},
   "outputs": [],
   "source": [
    "train_pitch_df1 = pd.read_csv(\"../Data/train_pitch_add_column1.csv\")"
   ]
  },
  {
   "cell_type": "code",
   "execution_count": null,
   "metadata": {},
   "outputs": [],
   "source": []
  }
 ],
 "metadata": {
  "kernelspec": {
   "display_name": "Python 3",
   "language": "python",
   "name": "python3"
  },
  "language_info": {
   "codemirror_mode": {
    "name": "ipython",
    "version": 3
   },
   "file_extension": ".py",
   "mimetype": "text/x-python",
   "name": "python",
   "nbconvert_exporter": "python",
   "pygments_lexer": "ipython3",
   "version": "3.7.6"
  }
 },
 "nbformat": 4,
 "nbformat_minor": 4
}
