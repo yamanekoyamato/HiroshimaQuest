{
 "cells": [
  {
   "cell_type": "code",
   "execution_count": 3,
   "metadata": {},
   "outputs": [],
   "source": [
    "import pandas as pd\n",
    "import numpy as np\n",
    "import matplotlib.pyplot as plt\n",
    "from pandas.plotting import parallel_coordinates\n",
    "get_ipython().run_line_magic('matplotlib', 'inline')\n",
    "\n",
    "from sklearn import linear_model\n",
    "from sklearn.linear_model import LinearRegression\n",
    "from sklearn.model_selection import train_test_split\n",
    "from sklearn.metrics  import log_loss"
   ]
  },
  {
   "cell_type": "code",
   "execution_count": 4,
   "metadata": {},
   "outputs": [
    {
     "name": "stdout",
     "output_type": "stream",
     "text": [
      "Index(['データ内連番', '球種', '投球位置区域', '年度', '試合ID', '試合内連番', '試合内投球数', '日付', '時刻',\n",
      "       'ホームチームID', 'アウェイチームID', '球場ID', '球場名', '試合種別詳細', 'イニング', '表裏',\n",
      "       'イニング内打席数', '打席内投球数', '投手ID', '投手チームID', '投手投球左右', '投手役割', '投手登板順',\n",
      "       '投手試合内対戦打者数', '投手試合内投球数', '投手イニング内投球数', '打者ID', '打者チームID', '打者打席左右',\n",
      "       '打者打順', '打者守備位置', '打者試合内打席数', 'プレイ前ホームチーム得点数', 'プレイ前アウェイチーム得点数',\n",
      "       'プレイ前アウト数', 'プレイ前ボール数', 'プレイ前ストライク数', 'プレイ前走者状況', '一塁走者ID', '二塁走者ID',\n",
      "       '三塁走者ID', '捕手ID', '一塁手ID', '二塁手ID', '三塁手ID', '遊撃手ID', '左翼手ID', '中堅手ID',\n",
      "       '右翼手ID', '成績対象投手ID', '成績対象打者ID'],\n",
      "      dtype='object')\n"
     ]
    },
    {
     "data": {
      "text/plain": [
       "0    120396\n",
       "2     47774\n",
       "4     21344\n",
       "1     19213\n",
       "3     18161\n",
       "5     13940\n",
       "7     13368\n",
       "6      2921\n",
       "Name: 球種, dtype: int64"
      ]
     },
     "execution_count": 4,
     "metadata": {},
     "output_type": "execute_result"
    }
   ],
   "source": [
    "pd.set_option('display.max_columns', 200)\n",
    "train_pitch_df = pd.read_csv(\"../Data/train_pitch.csv\")\n",
    "train_player_df = pd.read_csv(\"../Data/train_player.csv\")\n",
    "\n",
    "print(train_pitch_df.columns)\n",
    "train_pitch_df.head()\n",
    "\n",
    "#one-hot化が必要\n",
    "\n",
    "columns1 = ['球場名','試合種別詳細','イニング','表裏','打者打席左右',\n",
    "            '投手投球左右','投手役割','投手登板順','打者打順', '打者守備位置']\n",
    "\n",
    "#one-hot化が必要だが多いので保留\n",
    "columns2 = ['日付', '時刻','年度','試合ID','投手ID','投手チームID','打者ID','打者チームID','プレイ前走者状況',\n",
    "            '一塁走者ID', '二塁走者ID','三塁走者ID', '捕手ID', '一塁手ID', '二塁手ID', '三塁手ID', '遊撃手ID',\n",
    "            '左翼手ID', '中堅手ID','右翼手ID', '成績対象投手ID', '成績対象打者ID','ホームチームID','アウェイチームID','球場ID']\n",
    "\n",
    "#one-hot化が必要なし\n",
    "columns3 = ['試合内連番', '試合内投球数','イニング内打席数', '打席内投球数','投手試合内対戦打者数', '投手試合内投球数',\n",
    "            '投手イニング内投球数','打者試合内打席数', 'プレイ前ホームチーム得点数', 'プレイ前アウェイチーム得点数',\n",
    "            'プレイ前アウト数', 'プレイ前ボール数', 'プレイ前ストライク数']\n",
    "\n",
    "columns4 = ['データ内連番','球種','投球位置区域']\n",
    "\n",
    "key = ['データ内連番']\n",
    "y1 = ['球種'] #目的変数１\n",
    "y2 = ['投球位置区域'] #目的変数２\n",
    "\n",
    "#読み込み\n",
    "train_pitch_df = pd.read_csv(\"../Data/train_pitch.csv\")\n",
    "\n",
    "#指定cloumnのone-hot化\n",
    "train_pitch_df = pd.get_dummies(train_pitch_df, columns = columns1)\n",
    "\n",
    "#余分な特徴量を削除\n",
    "train_pitch_df2 = train_pitch_df.drop(columns = columns2)\n",
    "X = train_pitch_df2.drop(columns = columns4)\n",
    "\n",
    "Y = train_pitch_df['球種']\n",
    "Y2 = train_pitch_df['球種'].astype(str)\n",
    "Y2 = pd.get_dummies(Y2)\n",
    "\n",
    "X.head()\n",
    "\n",
    "#要素ごとの個数を表示\n",
    "Y.value_counts()"
   ]
  },
  {
   "cell_type": "code",
   "execution_count": 5,
   "metadata": {},
   "outputs": [
    {
     "name": "stdout",
     "output_type": "stream",
     "text": [
      "10000\n",
      "10000\n",
      "10000\n",
      "10000\n",
      "10000\n",
      "10000\n",
      "2921\n",
      "10000\n",
      "<class 'pandas.core.frame.DataFrame'>\n",
      "OK\n"
     ]
    }
   ],
   "source": [
    "#要素の偏りをなくしたデータセットの作成\n",
    "\n",
    "Y_X = pd.concat([Y,X],axis = 1)\n",
    "Y_X0 = Y_X[Y_X['球種'] == 0]\n",
    "Y_X_10000 = pd.DataFrame()\n",
    "for i in range(8):\n",
    "    tmp = Y_X[Y_X['球種'] == i]\n",
    "    if len(tmp) > 10000:\n",
    "        tmp = tmp[:10000]\n",
    "    else:\n",
    "        tmp = tmp[:len(tmp)]\n",
    "    print(len(tmp))\n",
    "    Y_X_10000 = pd.concat([Y_X_10000, tmp])\n",
    "\n",
    "len(Y_X_10000)\n",
    "X2 = Y_X_10000.drop(columns = [\"球種\"])\n",
    "Y2 = Y_X_10000[\"球種\"]\n",
    "\n",
    "#相関係数\n",
    "Y_X_corr = Y_X.corr()\n",
    "print(type(Y_X_corr))\n",
    "\n",
    "#相関係数のソート\n",
    "#200行まで表示\n",
    "pd.set_option('display.max_rows',200)\n",
    "Y_X_corr_rank = Y_X_corr['球種']\n",
    "Y_X_corr_rank = Y_X_corr.sort_values('球種',ascending=False)\n",
    "print(\"OK\")"
   ]
  },
  {
   "cell_type": "code",
   "execution_count": 7,
   "metadata": {
    "scrolled": true
   },
   "outputs": [
    {
     "name": "stdout",
     "output_type": "stream",
     "text": [
      "Bayesian Optimization\n",
      "---------------------------------\n",
      "Inital_Design:1 / 1  Try:0 / 1\n",
      "\n",
      "Next bounds is\n",
      "eta = 0.338  max_depth = 10.595  min_child_weight = 1.051  subsample = 0.995  colsample_bytree = 0.876  gamma = 3.823  n_estimators = 63.589  learning_rate = 0.252  reg_lambda = 0.858  reg_alpha = 0.048  \n",
      "\n",
      "Logloss: nan\n",
      "---------------------------------\n",
      "Inital_Design:1 / 1  Try:1 / 1\n",
      "\n",
      "Next bounds is\n",
      "eta = 0.375  max_depth = 11.393  min_child_weight = 0.282  subsample = 0.944  colsample_bytree = 0.939  gamma = 8.837  n_estimators = 84.375  learning_rate = 0.864  reg_lambda = 0.854  reg_alpha = 0.195  \n",
      "\n",
      "Logloss: nan\n",
      "End\n"
     ]
    }
   ],
   "source": [
    "########### XGBoost ###########\n",
    "import xgboost as xgb\n",
    "import GPy\n",
    "import GPyOpt\n",
    "from sklearn.metrics import accuracy_score\n",
    "from sklearn.model_selection import KFold\n",
    "from sklearn.model_selection import cross_val_score\n",
    "from sklearn.model_selection import cross_validate\n",
    "\n",
    "'''\n",
    "X：特徴量\n",
    "Y：目的変数\n",
    "必要なもの\n",
    "pip install xgboost\n",
    "pip install japanize-matplotlib\n",
    "'''\n",
    "#通常\n",
    "train_x, test_x, train_y, test_y = train_test_split(X, Y, test_size=0.3, shuffle=True)\n",
    "\n",
    "#球種割合揃え\n",
    "#train_x, test_x, train_y, test_y = train_test_split(X2, Y2, test_size=0.3, shuffle=True)\n",
    "\n",
    "\n",
    "init_num = 1          #初期サンプル数\n",
    "max_iter = 1          #サンプリング回数\n",
    "\n",
    "#関数内で使う変数\n",
    "initial_design = 1     #初期サンプル回数計測\n",
    "try_ = 0               #サンプリング回数計測\n",
    "bounds_list = list()   #パラメータを保存用list\n",
    "\n",
    "#推定用関数\n",
    "\n",
    "def f(x):\n",
    "    model = xgb.XGBClassifier(num_class = 8, \n",
    "                              eta = float(x[:,0]),\n",
    "                              max_depth = int(x[:,1]),\n",
    "                              min_child_weight = float(x[:,2]),\n",
    "                              subsample = float(x[:,3]),\n",
    "                              colsample_bytree = float(x[:,4]),\n",
    "                              gamma = float(x[:,5]),\n",
    "                              n_estimators = int(x[:,6]),\n",
    "                              learning_rate = float(x[:,7]),\n",
    "                              reg_lambda = float(x[:,8]),\n",
    "                              reg_alpha = float(x[:,9]),\n",
    "                              tree_method = 'gpu_hist',\n",
    "                              objective = 'multi:softprob'\n",
    "                              )\n",
    "    #global変数の読み込み\n",
    "    \n",
    "    global initial_design\n",
    "    global try_\n",
    "    global bounds_list\n",
    "    \n",
    "    #回数の表示　Inital_Design:初期　Try:\n",
    "    print(\"---------------------------------\")\n",
    "    print(\"Inital_Design:{0} / {1}  Try:{2} / {3}\\n\".format(initial_design, init_num, try_, max_iter))\n",
    "    \n",
    "    #回数の更新\n",
    "    if initial_design < init_num:\n",
    "        initial_design += 1\n",
    "    else:\n",
    "        try_ += 1\n",
    "        \n",
    "    print(\"Next bounds is\")\n",
    "    x = np.reshape(x,(x.size,)) #なぜか(1,10)の二次元配列だったためreshape\n",
    "    \n",
    "    #パラメータの表示\n",
    "    for bound, x_ in zip(bounds, x):\n",
    "        print(f\"{bound['name']:s} = {x_:.3f}  \", end=\"\")\n",
    "    \n",
    "    \n",
    "    x_list = x.tolist() #numpyをlist化(numpyはappendが遅いため)\n",
    "    bounds_list.append(x_list) #パラメータをlistで保存\n",
    "    \n",
    "    # CV\n",
    "    kfold = KFold(n_splits=5, random_state=7)\n",
    "    results = cross_validate(model, train_x, train_y, scoring = 'neg_log_loss', cv=kfold)\n",
    "    \n",
    "    #loglossの表示\n",
    "    score = results['test_score'].mean()*(-1)\n",
    "    print(f\"\\n\\nLogloss: {score:f}\")\n",
    "    \n",
    "    return score\n",
    "\n",
    "bounds = [{'name': 'eta', 'type': 'continuous', 'domain': (0.3,0.4)},\n",
    "          {'name': 'max_depth', 'type': 'continuous', 'domain': (3,15)},\n",
    "          {'name': 'min_child_weight', 'type': 'continuous', 'domain': (0,2)},\n",
    "          {'name': 'subsample', 'type': 'continuous', 'domain': (0.8,1)},\n",
    "          {'name': 'colsample_bytree', 'type': 'continuous', 'domain': (0.8,1)},\n",
    "          {'name': 'gamma', 'type': 'continuous', 'domain': (0,10)},\n",
    "          {'name': 'n_estimators', 'type': 'continuous', 'domain': (10,200)},\n",
    "          {'name': 'learning_rate', 'type': 'continuous', 'domain': (0,1)},\n",
    "          {'name': 'reg_lambda', 'type': 'continuous', 'domain': (0.8,1)},\n",
    "          {'name': 'reg_alpha', 'type': 'continuous', 'domain': (0,0.3)}]\n",
    "\n",
    "print(\"Bayesian Optimization\")\n",
    "myBopt = GPyOpt.methods.BayesianOptimization(f=f,initial_design_numdata=init_num, verbosity = True, domain=bounds)\n",
    "myBopt.run_optimization(max_iter=max_iter)\n",
    "print(\"End\")\n",
    "result_z = myBopt.Y\n",
    "    \n",
    "\n",
    "\n"
   ]
  },
  {
   "cell_type": "code",
   "execution_count": 8,
   "metadata": {},
   "outputs": [
    {
     "data": {
      "image/png": "[encoded data removed]",
      "text/plain": [
       "<Figure size 432x288 with 1 Axes>"
      ]
     },
     "metadata": {
      "needs_background": "light"
     },
     "output_type": "display_data"
    },
    {
     "name": "stdout",
     "output_type": "stream",
     "text": [
      "### best parameters ###\n",
      "eta = 0.338\n",
      "max_depth = 10.595\n",
      "min_child_weight = 1.051\n",
      "subsample = 0.995\n",
      "colsample_bytree = 0.876\n",
      "gamma = 3.823\n",
      "n_estimators = 63.589\n",
      "learning_rate = 0.252\n",
      "reg_lambda = 0.858\n",
      "reg_alpha = 0.048\n"
     ]
    }
   ],
   "source": [
    "#結果の表示\n",
    "plt.figure()\n",
    "plt.plot(result_z)\n",
    "plt.xlabel(\"epochs\")\n",
    "plt.ylabel(\"CV Accuracy\")\n",
    "plt.show()\n",
    "\n",
    "#最適なパラメータの表示\n",
    "print(\"### best parameters ###\")\n",
    "\n",
    "for bound, x_opt in zip(bounds, myBopt.x_opt):\n",
    "    print(f\"{bound['name']:s} = {x_opt:.3f}\")\n",
    "    "
   ]
  },
  {
   "cell_type": "code",
   "execution_count": 13,
   "metadata": {
    "scrolled": true
   },
   "outputs": [
    {
     "name": "stdout",
     "output_type": "stream",
     "text": [
      "[15:37:05] WARNING: /home/conda/feedstock_root/build_artifacts/xgboost_1588600955503/work/src/learner.cc:328: \n",
      "Parameters: { colsample, n_estimators } might not be used.\n",
      "\n",
      "  This may not be accurate due to some parameters are only used in language bindings but\n",
      "  passed down to XGBoost core.  Or some parameters are not used but slip through this\n",
      "  verification. Please open an issue if you find above cases.\n",
      "\n",
      "\n",
      "[0]\teval-mlogloss:1.89039\ttrain-mlogloss:1.87977\n",
      "Multiple eval metrics have been passed: 'train-mlogloss' will be used for early stopping.\n",
      "\n",
      "Will train until train-mlogloss hasn't improved in 10 rounds.\n",
      "[1]\teval-mlogloss:1.78053\ttrain-mlogloss:1.76206\n",
      "[2]\teval-mlogloss:1.70639\ttrain-mlogloss:1.68176\n",
      "[3]\teval-mlogloss:1.65420\ttrain-mlogloss:1.62428\n",
      "[4]\teval-mlogloss:1.61562\ttrain-mlogloss:1.58081\n",
      "[5]\teval-mlogloss:1.58599\ttrain-mlogloss:1.54620\n",
      "[6]\teval-mlogloss:1.56302\ttrain-mlogloss:1.51821\n"
     ]
    },
    {
     "ename": "KeyboardInterrupt",
     "evalue": "",
     "output_type": "error",
     "traceback": [
      "\u001b[0;31m---------------------------------------------------------------------------\u001b[0m",
      "\u001b[0;31mKeyboardInterrupt\u001b[0m                         Traceback (most recent call last)",
      "\u001b[0;32m<ipython-input-13-36a894d361ea>\u001b[0m in \u001b[0;36m<module>\u001b[0;34m\u001b[0m\n\u001b[1;32m      8\u001b[0m          'colsample':0.5, 'objective':'multi:softprob','num_class':8, 'eval_metric':'mlogloss'}  \n\u001b[1;32m      9\u001b[0m \u001b[0;34m\u001b[0m\u001b[0m\n\u001b[0;32m---> 10\u001b[0;31m \u001b[0mbst\u001b[0m \u001b[0;34m=\u001b[0m \u001b[0mxgb\u001b[0m\u001b[0;34m.\u001b[0m\u001b[0mtrain\u001b[0m\u001b[0;34m(\u001b[0m\u001b[0mparam\u001b[0m\u001b[0;34m,\u001b[0m \u001b[0mdtrain\u001b[0m\u001b[0;34m,\u001b[0m \u001b[0mnum_round\u001b[0m\u001b[0;34m,\u001b[0m \u001b[0mevallist\u001b[0m\u001b[0;34m,\u001b[0m \u001b[0mearly_stopping_rounds\u001b[0m\u001b[0;34m=\u001b[0m\u001b[0;36m10\u001b[0m\u001b[0;34m)\u001b[0m\u001b[0;34m\u001b[0m\u001b[0;34m\u001b[0m\u001b[0m\n\u001b[0m\u001b[1;32m     11\u001b[0m \u001b[0;34m\u001b[0m\u001b[0m\n\u001b[1;32m     12\u001b[0m \u001b[0;34m\u001b[0m\u001b[0m\n",
      "\u001b[0;32m/opt/conda/lib/python3.7/site-packages/xgboost/training.py\u001b[0m in \u001b[0;36mtrain\u001b[0;34m(params, dtrain, num_boost_round, evals, obj, feval, maximize, early_stopping_rounds, evals_result, verbose_eval, xgb_model, callbacks)\u001b[0m\n\u001b[1;32m    207\u001b[0m                            \u001b[0mevals\u001b[0m\u001b[0;34m=\u001b[0m\u001b[0mevals\u001b[0m\u001b[0;34m,\u001b[0m\u001b[0;34m\u001b[0m\u001b[0;34m\u001b[0m\u001b[0m\n\u001b[1;32m    208\u001b[0m                            \u001b[0mobj\u001b[0m\u001b[0;34m=\u001b[0m\u001b[0mobj\u001b[0m\u001b[0;34m,\u001b[0m \u001b[0mfeval\u001b[0m\u001b[0;34m=\u001b[0m\u001b[0mfeval\u001b[0m\u001b[0;34m,\u001b[0m\u001b[0;34m\u001b[0m\u001b[0;34m\u001b[0m\u001b[0m\n\u001b[0;32m--> 209\u001b[0;31m                            xgb_model=xgb_model, callbacks=callbacks)\n\u001b[0m\u001b[1;32m    210\u001b[0m \u001b[0;34m\u001b[0m\u001b[0m\n\u001b[1;32m    211\u001b[0m \u001b[0;34m\u001b[0m\u001b[0m\n",
      "\u001b[0;32m/opt/conda/lib/python3.7/site-packages/xgboost/training.py\u001b[0m in \u001b[0;36m_train_internal\u001b[0;34m(params, dtrain, num_boost_round, evals, obj, feval, xgb_model, callbacks)\u001b[0m\n\u001b[1;32m     72\u001b[0m         \u001b[0;31m# Skip the first update if it is a recovery step.\u001b[0m\u001b[0;34m\u001b[0m\u001b[0;34m\u001b[0m\u001b[0;34m\u001b[0m\u001b[0m\n\u001b[1;32m     73\u001b[0m         \u001b[0;32mif\u001b[0m \u001b[0mversion\u001b[0m \u001b[0;34m%\u001b[0m \u001b[0;36m2\u001b[0m \u001b[0;34m==\u001b[0m \u001b[0;36m0\u001b[0m\u001b[0;34m:\u001b[0m\u001b[0;34m\u001b[0m\u001b[0;34m\u001b[0m\u001b[0m\n\u001b[0;32m---> 74\u001b[0;31m             \u001b[0mbst\u001b[0m\u001b[0;34m.\u001b[0m\u001b[0mupdate\u001b[0m\u001b[0;34m(\u001b[0m\u001b[0mdtrain\u001b[0m\u001b[0;34m,\u001b[0m \u001b[0mi\u001b[0m\u001b[0;34m,\u001b[0m \u001b[0mobj\u001b[0m\u001b[0;34m)\u001b[0m\u001b[0;34m\u001b[0m\u001b[0;34m\u001b[0m\u001b[0m\n\u001b[0m\u001b[1;32m     75\u001b[0m             \u001b[0mbst\u001b[0m\u001b[0;34m.\u001b[0m\u001b[0msave_rabit_checkpoint\u001b[0m\u001b[0;34m(\u001b[0m\u001b[0;34m)\u001b[0m\u001b[0;34m\u001b[0m\u001b[0;34m\u001b[0m\u001b[0m\n\u001b[1;32m     76\u001b[0m             \u001b[0mversion\u001b[0m \u001b[0;34m+=\u001b[0m \u001b[0;36m1\u001b[0m\u001b[0;34m\u001b[0m\u001b[0;34m\u001b[0m\u001b[0m\n",
      "\u001b[0;32m/opt/conda/lib/python3.7/site-packages/xgboost/core.py\u001b[0m in \u001b[0;36mupdate\u001b[0;34m(self, dtrain, iteration, fobj)\u001b[0m\n\u001b[1;32m   1247\u001b[0m             _check_call(_LIB.XGBoosterUpdateOneIter(self.handle,\n\u001b[1;32m   1248\u001b[0m                                                     \u001b[0mctypes\u001b[0m\u001b[0;34m.\u001b[0m\u001b[0mc_int\u001b[0m\u001b[0;34m(\u001b[0m\u001b[0miteration\u001b[0m\u001b[0;34m)\u001b[0m\u001b[0;34m,\u001b[0m\u001b[0;34m\u001b[0m\u001b[0;34m\u001b[0m\u001b[0m\n\u001b[0;32m-> 1249\u001b[0;31m                                                     dtrain.handle))\n\u001b[0m\u001b[1;32m   1250\u001b[0m         \u001b[0;32melse\u001b[0m\u001b[0;34m:\u001b[0m\u001b[0;34m\u001b[0m\u001b[0;34m\u001b[0m\u001b[0m\n\u001b[1;32m   1251\u001b[0m             \u001b[0mpred\u001b[0m \u001b[0;34m=\u001b[0m \u001b[0mself\u001b[0m\u001b[0;34m.\u001b[0m\u001b[0mpredict\u001b[0m\u001b[0;34m(\u001b[0m\u001b[0mdtrain\u001b[0m\u001b[0;34m,\u001b[0m \u001b[0mtraining\u001b[0m\u001b[0;34m=\u001b[0m\u001b[0;32mTrue\u001b[0m\u001b[0;34m)\u001b[0m\u001b[0;34m\u001b[0m\u001b[0;34m\u001b[0m\u001b[0m\n",
      "\u001b[0;31mKeyboardInterrupt\u001b[0m: "
     ]
    }
   ],
   "source": [
    "#最適なパラメータで再度学習、\n",
    "x = myBopt.x_opt\n",
    "dtrain = xgb.DMatrix(train_x, label=train_y)\n",
    "dtest = xgb.DMatrix(test_x, label=test_y)  \n",
    "evallist = [(dtest, 'eval'), (dtrain, 'train')] \n",
    "num_round = 1000  \n",
    "param = {'eta': x[0],'max_depth':int(x[1]), 'min_child_weight':x[2], 'subsample':x[3],'colsample_bytree':x[4],\n",
    "         'gamma': x[5],'n_estimators':int(x[6]),'learning_rate':x[7],'reg_lambda':x[8],'reg_alpha':x[9],\n",
    "         'colsample':0.5, 'objective':'multi:softprob','num_class':8, 'eval_metric':'mlogloss'}  \n",
    "\n",
    "bst = xgb.train(param, dtrain, num_round, evallist, early_stopping_rounds=10)\n",
    "\n",
    "\n"
   ]
  },
  {
   "cell_type": "code",
   "execution_count": 59,
   "metadata": {},
   "outputs": [
    {
     "name": "stdout",
     "output_type": "stream",
     "text": [
      "77136\n",
      "77136\n",
      "Optimized XGBoost\n"
     ]
    },
    {
     "ename": "ValueError",
     "evalue": "y_true and y_pred contain different number of classes 8, 2. Please provide the true labels explicitly through the labels argument. Classes found in y_true: [0 1 2 3 4 5 6 7]",
     "output_type": "error",
     "traceback": [
      "\u001b[0;31m---------------------------------------------------------------------------\u001b[0m",
      "\u001b[0;31mValueError\u001b[0m                                Traceback (most recent call last)",
      "\u001b[0;32m<ipython-input-59-ed58b9bf4855>\u001b[0m in \u001b[0;36m<module>\u001b[0;34m()\u001b[0m\n\u001b[1;32m      5\u001b[0m \u001b[0mprint\u001b[0m\u001b[0;34m(\u001b[0m\u001b[0mlen\u001b[0m\u001b[0;34m(\u001b[0m\u001b[0mtest_y\u001b[0m\u001b[0;34m)\u001b[0m\u001b[0;34m)\u001b[0m\u001b[0;34m\u001b[0m\u001b[0m\n\u001b[1;32m      6\u001b[0m \u001b[0mprint\u001b[0m\u001b[0;34m(\u001b[0m\u001b[0;34m\"Optimized XGBoost\"\u001b[0m\u001b[0;34m)\u001b[0m\u001b[0;34m\u001b[0m\u001b[0m\n\u001b[0;32m----> 7\u001b[0;31m \u001b[0mprint\u001b[0m\u001b[0;34m(\u001b[0m\u001b[0mlog_loss\u001b[0m\u001b[0;34m(\u001b[0m\u001b[0mtest_y\u001b[0m\u001b[0;34m,\u001b[0m \u001b[0mpred_p\u001b[0m\u001b[0;34m)\u001b[0m\u001b[0;34m)\u001b[0m\u001b[0;34m\u001b[0m\u001b[0m\n\u001b[0m",
      "\u001b[0;32m~/.pyenv/versions/anaconda3-5.1.0/lib/python3.6/site-packages/sklearn/metrics/classification.py\u001b[0m in \u001b[0;36mlog_loss\u001b[0;34m(y_true, y_pred, eps, normalize, sample_weight, labels)\u001b[0m\n\u001b[1;32m   1684\u001b[0m                              \"y_true: {2}\".format(transformed_labels.shape[1],\n\u001b[1;32m   1685\u001b[0m                                                   \u001b[0my_pred\u001b[0m\u001b[0;34m.\u001b[0m\u001b[0mshape\u001b[0m\u001b[0;34m[\u001b[0m\u001b[0;36m1\u001b[0m\u001b[0;34m]\u001b[0m\u001b[0;34m,\u001b[0m\u001b[0;34m\u001b[0m\u001b[0m\n\u001b[0;32m-> 1686\u001b[0;31m                                                   lb.classes_))\n\u001b[0m\u001b[1;32m   1687\u001b[0m         \u001b[0;32melse\u001b[0m\u001b[0;34m:\u001b[0m\u001b[0;34m\u001b[0m\u001b[0m\n\u001b[1;32m   1688\u001b[0m             raise ValueError('The number of classes in labels is different '\n",
      "\u001b[0;31mValueError\u001b[0m: y_true and y_pred contain different number of classes 8, 2. Please provide the true labels explicitly through the labels argument. Classes found in y_true: [0 1 2 3 4 5 6 7]"
     ]
    }
   ],
   "source": [
    "#結果表示\n",
    "pred = Xgb.predict(test_x)\n",
    "pred_p = pd.DataFrame(pred)\n",
    "print(len(pred_p))\n",
    "print(len(test_y))\n",
    "print(\"Optimized XGBoost\")\n",
    "print(log_loss(test_y, pred_p))\n",
    "\n",
    "#重要度の可視化\n",
    "import matplotlib.pyplot as plt\n",
    "import japanize_matplotlib #日本語読み込み\n",
    "fig, ax = plt.subplots(1, 1, figsize=(8,25))\n",
    "xgb.plot_importance(bst, ax=ax)"
   ]
  },
  {
   "cell_type": "code",
   "execution_count": 60,
   "metadata": {
    "scrolled": true
   },
   "outputs": [
    {
     "name": "stdout",
     "output_type": "stream",
     "text": [
      "Logloss: 1.434684\n"
     ]
    }
   ],
   "source": [
    "#CVで再学習\n",
    "\n",
    "model = xgb.XGBClassifier(num_class = 8, eta=x[0], max_depth=int(x[1]),min_child_weight=x[2],\n",
    "                          subsample=x[3], colsample_bytree=x[4], gamma=x[5], n_estimators=int(x[6]),\n",
    "                          learning_rate=x[7], reg_lambda=x[8], reg_alpha=x[9],\n",
    "                          tree_method = 'gpu_hist',\n",
    "                          objective = 'multi:softprob',\n",
    "                          \n",
    "                          )\n",
    "\n",
    "# CV\n",
    "\n",
    "kfold = KFold(n_splits=5, random_state=7)\n",
    "results = cross_validate(model, train_x, train_y, scoring = 'neg_log_loss', cv=kfold)\n",
    "score = results['test_score'].mean()*(-1)\n",
    "print(f\"Logloss: {score:f}\")"
   ]
  },
  {
   "cell_type": "code",
   "execution_count": null,
   "metadata": {},
   "outputs": [],
   "source": []
  },
  {
   "cell_type": "code",
   "execution_count": null,
   "metadata": {},
   "outputs": [],
   "source": []
  }
 ],
 "metadata": {
  "kernelspec": {
   "display_name": "Python 3",
   "language": "python",
   "name": "python3"
  },
  "language_info": {
   "codemirror_mode": {
    "name": "ipython",
    "version": 3
   },
   "file_extension": ".py",
   "mimetype": "text/x-python",
   "name": "python",
   "nbconvert_exporter": "python",
   "pygments_lexer": "ipython3",
   "version": "3.7.6"
  }
 },
 "nbformat": 4,
 "nbformat_minor": 4
}
